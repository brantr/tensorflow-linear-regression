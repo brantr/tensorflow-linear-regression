{
 "cells": [
  {
   "cell_type": "markdown",
   "id": "a19ffe05-94e3-4900-9216-0add0cfbc5d2",
   "metadata": {},
   "source": [
    "# Linear Regression with TensorFlow 2\n",
    "\n",
    "This notebook provides a simple example of performing a regression problem with TensorFlow 2. The notebook could be adapted by changing the fitting functions to address a wide variety of regression tasks."
   ]
  },
  {
   "cell_type": "markdown",
   "id": "128f1d53-88ed-4266-a096-237c8a6b6eeb",
   "metadata": {},
   "source": [
    "### First, import numpy, matplotlib, and tensorflow\n",
    "\n",
    "Also, check the TF version."
   ]
  },
  {
   "cell_type": "code",
   "execution_count": 50,
   "id": "e5935db7-0bfc-473b-b646-d2c469a601c0",
   "metadata": {},
   "outputs": [
    {
     "name": "stdout",
     "output_type": "stream",
     "text": [
      "2.8.0\n"
     ]
    }
   ],
   "source": [
    "import numpy as np\n",
    "import matplotlib\n",
    "import matplotlib.pyplot as plt\n",
    "import tensorflow as tf\n",
    "print(tf.__version__)"
   ]
  },
  {
   "cell_type": "markdown",
   "id": "ad57ee28-23bb-4cb3-bdf0-bb8c46e8bc39",
   "metadata": {},
   "source": [
    "## Second, create a function to generate a linear dataset\n",
    "\n",
    "Set the slope, intercept and gaussian scatter, and then the number of samples."
   ]
  },
  {
   "cell_type": "code",
   "execution_count": 51,
   "id": "4fd24aba-8d50-45f3-bd14-90e10a072174",
   "metadata": {},
   "outputs": [],
   "source": [
    "#a straight line\n",
    "def line(x,m,b):\n",
    "    return m*x+b"
   ]
  },
  {
   "cell_type": "code",
   "execution_count": 52,
   "id": "afd37e05",
   "metadata": {},
   "outputs": [],
   "source": [
    "# linear data with scatter\n",
    "def generate_data(xmin=0.0, xmax=10.0, m=2.0, b=1.0, s=1.0, n=100):\n",
    "    #xmin is the minimum range of the data\n",
    "    #xmax is the maximum range of the data\n",
    "    #m is the slope\n",
    "    #b is the intercept\n",
    "    #s is the gaussian std\n",
    "    #n is the number of samples\n",
    "    \n",
    "    #pick a random location between xmin and xmax\n",
    "    x = np.asarray(np.random.uniform(low=xmin,high=xmax,size=n),dtype=np.float32)\n",
    "\n",
    "    #pick a random y location centered on the line\n",
    "    y = np.asarray(line(x,m,b) + s*np.random.randn(n),dtype=np.float32)\n",
    "    \n",
    "    #remember the y error\n",
    "    y_err = np.full(n,s,dtype=np.float32)\n",
    "    \n",
    "    #return the x and y values\n",
    "    return x,y,y_err"
   ]
  },
  {
   "cell_type": "markdown",
   "id": "4c0c22d4-84f1-46ac-92e7-82e9f247a5d6",
   "metadata": {},
   "source": [
    "### Go ahead and generate the data"
   ]
  },
  {
   "cell_type": "code",
   "execution_count": 53,
   "id": "c9372406-3fda-40ae-9bfb-e22bd39a4717",
   "metadata": {},
   "outputs": [],
   "source": [
    "x, y, y_err = generate_data()"
   ]
  },
  {
   "cell_type": "code",
   "execution_count": 54,
   "id": "a4537730",
   "metadata": {},
   "outputs": [
    {
     "data": {
      "text/plain": [
       "<matplotlib.legend.Legend at 0x7ffefc0980d0>"
      ]
     },
     "execution_count": 54,
     "metadata": {},
     "output_type": "execute_result"
    },
    {
     "data": {
      "image/png": "[encoded data removed]",
      "text/plain": [
       "<Figure size 504x504 with 1 Axes>"
      ]
     },
     "metadata": {
      "needs_background": "light"
     },
     "output_type": "display_data"
    }
   ],
   "source": [
    "matplotlib.rcParams['font.family'] = ['Family1','serif','Family2']\n",
    "matplotlib.rcParams['text.usetex'] = 'True'\n",
    "f,ax = plt.subplots(1,1,figsize=(7,7))\n",
    "ax.tick_params(axis=\"both\", which=\"both\", direction=\"in\")\n",
    "for tick in ax.xaxis.get_ticklabels():\n",
    "    tick.set_fontsize(20)\n",
    "for tick in ax.yaxis.get_ticklabels():\n",
    "    tick.set_fontsize(20)\n",
    "ax.errorbar(x,y,y_err,fmt='o',label='Data')\n",
    "ax.set_xlim([-0.1,10.1])\n",
    "ax.set_ylim([-5.,30])\n",
    "ax.text(1.,22.,r'$\\sigma = 1$',color='0',fontsize=32)\n",
    "ax.set_xlabel('x',fontsize=20)\n",
    "ax.set_ylabel('y',fontsize=20)\n",
    "plt.legend(frameon=False,fontsize=20,handletextpad=0)"
   ]
  },
  {
   "cell_type": "markdown",
   "id": "eb3dee90-3f92-4c81-9e99-7c56b1a9c119",
   "metadata": {},
   "source": [
    "### Let's prepare our fitted model\n",
    "\n",
    "While there's likely another way, we can declare our fitted variables as global tf.Variables"
   ]
  },
  {
   "cell_type": "code",
   "execution_count": 55,
   "id": "18e33ae2-b550-4d6c-b047-6a3ad4b69978",
   "metadata": {},
   "outputs": [],
   "source": [
    "#slope\n",
    "m_init = 3.0\n",
    "m_fit  = tf.Variable(m_init, name='slope')                       # \n",
    "#intercept\n",
    "b_init = 2.0\n",
    "b_fit  = tf.Variable(b_init, name='intercept') "
   ]
  },
  {
   "cell_type": "markdown",
   "id": "4e62c5d8-3ed8-40de-8935-9608acc2900a",
   "metadata": {},
   "source": [
    "#### Now, let's define the model for tensorflow to fit\n",
    "\n",
    "The function needs to be decorated with the @tf.function decorator."
   ]
  },
  {
   "cell_type": "code",
   "execution_count": 56,
   "id": "ef7f254c-16ac-4ad1-9fc3-3fffdcfaee6b",
   "metadata": {},
   "outputs": [],
   "source": [
    "#define linear model\n",
    "@tf.function\n",
    "def linear_model(x):\n",
    "    return m_fit*x+b_fit"
   ]
  },
  {
   "cell_type": "markdown",
   "id": "530bccc7-ade1-475b-80de-d79fab3886e1",
   "metadata": {},
   "source": [
    "#### We need to define the loss function, using tensorflow\n",
    "\n",
    "We will use mean-squared error"
   ]
  },
  {
   "cell_type": "code",
   "execution_count": 57,
   "id": "0a550008-5c35-48e9-9a8c-fc8b62449213",
   "metadata": {},
   "outputs": [],
   "source": [
    "#define loss function\n",
    "@tf.function\n",
    "def mse(y_true, y_pred):\n",
    "    #mse between true and predicted values\n",
    "    return tf.losses.mean_squared_error(y_true,y_pred)"
   ]
  },
  {
   "cell_type": "markdown",
   "id": "7c64ffe4-ce8a-4b97-bce8-8873161a23f3",
   "metadata": {},
   "source": [
    "#### We also need to define the optimizer that tells us how to do gradient descent\n",
    "\n",
    "We'll use pre-defined the Adam optimizer from Keras."
   ]
  },
  {
   "cell_type": "code",
   "execution_count": 58,
   "id": "e893102e",
   "metadata": {},
   "outputs": [],
   "source": [
    "#Adam Optimizer\n",
    "optimizer = tf.keras.optimizers.Adam(learning_rate=0.001)\n"
   ]
  },
  {
   "cell_type": "markdown",
   "id": "dadba4de-b9aa-4e95-aa4d-c7c3ee66a8e5",
   "metadata": {},
   "source": [
    "## Now we train the model iteratively"
   ]
  },
  {
   "cell_type": "code",
   "execution_count": 59,
   "id": "59ee415d",
   "metadata": {},
   "outputs": [
    {
     "name": "stdout",
     "output_type": "stream",
     "text": [
      "Epoch 0 | Loss 42.080448150634766, m: 3.0 b:2.0\n",
      "Epoch 1000 | Loss 3.750159502029419, m: 2.254687547683716 b:1.2535380125045776\n",
      "Epoch 2000 | Loss 0.9277796745300293, m: 2.0121405124664307 b:1.005429744720459\n",
      "Epoch 3000 | Loss 0.9074240922927856, m: 1.9915902614593506 b:0.9741184711456299\n",
      "Epoch 4000 | Loss 0.9071181416511536, m: 1.9934630393981934 b:0.9610661864280701\n",
      "Epoch 5000 | Loss 0.9068688750267029, m: 1.995935082435608 b:0.9461504817008972\n",
      "Done!\n"
     ]
    }
   ],
   "source": [
    "#start training\n",
    "epochs = 5000  #number of epochs to run\n",
    "display_step = 1000 #number of epochs between printing info to screen\n",
    "\n",
    "for epoch in range(epochs):\n",
    "    \n",
    "    #monitor training / display steps\n",
    "    if((epoch%display_step)==0):\n",
    "        pred = linear_model(x)\n",
    "        loss = mse(pred, y)\n",
    "        \n",
    "        #to print this info, we need to convert to numpy arrays\n",
    "        print(f\"Epoch {epoch} | Loss {loss.numpy()}, m: {m_fit.numpy()} b:{b_fit.numpy()}\")\n",
    "        \n",
    "    #In TF2, gradients are handled using\n",
    "    #the GradientTape class.\n",
    "    #begin GradientTape and optimize\n",
    "    with tf.GradientTape() as g:\n",
    "        pred = linear_model(x)\n",
    "        loss = mse(y,pred)\n",
    "        \n",
    "    #compute dm, db, the gradients\n",
    "    #with respect to m_fit and b_fit\n",
    "    gradients = g.gradient(loss, [m_fit,b_fit])\n",
    "    \n",
    "    #update m_fit and b_fit with the gradients x learning\n",
    "    optimizer.apply_gradients(zip(gradients,[m_fit,b_fit]))\n",
    "    \n",
    "    \n",
    "#print the last answer!\n",
    "print(f\"Epoch {epochs} | Loss {loss.numpy()}, m: {m_fit.numpy()} b:{b_fit.numpy()}\")\n",
    "print(\"Done!\")"
   ]
  },
  {
   "cell_type": "markdown",
   "id": "53e7cacd-5ef0-4bd9-9ed1-15b6b68bd5ba",
   "metadata": {},
   "source": [
    "## Let's plot the data and the best-fit model"
   ]
  },
  {
   "cell_type": "code",
   "execution_count": 60,
   "id": "d0371373",
   "metadata": {},
   "outputs": [],
   "source": [
    "x_model = np.sort(x)\n",
    "y_model = line(x_model,m_fit,b_fit)"
   ]
  },
  {
   "cell_type": "code",
   "execution_count": 61,
   "id": "35b5ce70-fb76-44b2-a519-81273f656e5b",
   "metadata": {},
   "outputs": [
    {
     "data": {
      "text/plain": [
       "<matplotlib.legend.Legend at 0x7fff0832bbd0>"
      ]
     },
     "execution_count": 61,
     "metadata": {},
     "output_type": "execute_result"
    },
    {
     "data": {
      "image/png": "[encoded data removed]",
      "text/plain": [
       "<Figure size 504x504 with 1 Axes>"
      ]
     },
     "metadata": {
      "needs_background": "light"
     },
     "output_type": "display_data"
    }
   ],
   "source": [
    "matplotlib.rcParams['font.family'] = ['Family1','serif','Family2']\n",
    "matplotlib.rcParams['text.usetex'] = 'True'\n",
    "f,ax = plt.subplots(1,1,figsize=(7,7))\n",
    "ax.tick_params(axis=\"both\", which=\"both\", direction=\"in\")\n",
    "for tick in ax.xaxis.get_ticklabels():\n",
    "    tick.set_fontsize(20)\n",
    "for tick in ax.yaxis.get_ticklabels():\n",
    "    tick.set_fontsize(20)\n",
    "ax.errorbar(x,y,y_err,fmt='o',label='Data')\n",
    "ax.plot(x_model,y_model,color='magenta',label='Best-fit Model')\n",
    "ax.set_xlim([-0.1,10.1])\n",
    "ax.set_ylim([-5.,30])\n",
    "ax.text(1.,22.,r'$\\sigma = 1$',color='0',fontsize=32)\n",
    "ax.set_xlabel('x',fontsize=20)\n",
    "ax.set_ylabel('y',fontsize=20)\n",
    "plt.legend(frameon=False,fontsize=20,handletextpad=0.2)"
   ]
  }
 ],
 "metadata": {
  "kernelspec": {
   "display_name": "Python 3.7 via comp-astro",
   "language": "python",
   "name": "comp-astro"
  },
  "language_info": {
   "codemirror_mode": {
    "name": "ipython",
    "version": 3
   },
   "file_extension": ".py",
   "mimetype": "text/x-python",
   "name": "python",
   "nbconvert_exporter": "python",
   "pygments_lexer": "ipython3",
   "version": "3.7.12"
  }
 },
 "nbformat": 4,
 "nbformat_minor": 5
}
