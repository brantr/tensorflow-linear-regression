{
 "cells": [
  {
   "cell_type": "code",
   "execution_count": null,
   "id": "0a4dbf79",
   "metadata": {},
   "outputs": [],
   "source": [
    "import numpy as np\n",
    "import matplotlib.pyplot as plt"
   ]
  },
  {
   "cell_type": "code",
   "execution_count": null,
   "id": "0397163a",
   "metadata": {},
   "outputs": [],
   "source": [
    "import tensorflow as tf\n",
    "print(tf.__version__)"
   ]
  },
  {
   "cell_type": "code",
   "execution_count": null,
   "id": "afd37e05",
   "metadata": {},
   "outputs": [],
   "source": [
    "# Blood Pressure data\n",
    "data_x = [22, 41, 52, 23, 41, 54, 24, 46, 56, 27, 47, 57, 28, 48, 58,  9, \n",
    "     49, 59, 30, 49, 63, 32, 50, 67, 33, 51, 71, 35, 51, 77, 40, 51, 81]\n",
    "y = [131, 139, 128, 128, 171, 105, 116, 137, 145, 106, 111, 141, 114, \n",
    "     115, 153, 123, 133, 157, 117, 128, 155, 122, 183,\n",
    "     176,  99, 130, 172, 121, 133, 178, 147, 144, 217] \n",
    "data_x = np.asarray(data_x, np.float32) \n",
    "data_y = np.asarray(y, np.float32)"
   ]
  },
  {
   "cell_type": "code",
   "execution_count": null,
   "id": "a4537730",
   "metadata": {},
   "outputs": [],
   "source": [
    "plt.scatter(x=x,y=y)\n",
    "plt.title(\"blood pressure vs age\")\n",
    "plt.xlabel(\"x (age)\")\n",
    "plt.ylabel(\"y (sbp)\")\n",
    "plt.show()"
   ]
  },
  {
   "cell_type": "code",
   "execution_count": null,
   "id": "e893102e",
   "metadata": {},
   "outputs": [],
   "source": [
    "#slope\n",
    "a_  = tf.Variable(1.0, name='slope')                       # \n",
    "#intercept\n",
    "b_  = tf.Variable(1.0, name='intercept') \n",
    "\n",
    "#define model\n",
    "@tf.function\n",
    "def model(x):\n",
    "    return a_*x+b_\n",
    "\n",
    "#define mse\n",
    "@tf.function\n",
    "def mse(y_true, y_pred):\n",
    "    return tf.losses.mean_squared_error(y_true,y_pred)\n",
    "\n",
    "#SGD Optimizer\n",
    "#optimizer = tf.optimizers.SGD(learning_rate=0.0001)\n",
    "optimizer = tf.keras.optimizers.Adam(learning_rate=0.001)\n"
   ]
  },
  {
   "cell_type": "code",
   "execution_count": null,
   "id": "6b9043b0",
   "metadata": {},
   "outputs": [],
   "source": [
    "print(a_.numpy(),b_.numpy())"
   ]
  },
  {
   "cell_type": "code",
   "execution_count": null,
   "id": "59ee415d",
   "metadata": {},
   "outputs": [],
   "source": [
    "#start training\n",
    "epochs = 100000\n",
    "display_step = 1000\n",
    "history = []\n",
    "for epoch in range(epochs):\n",
    "    \n",
    "    #monitor training / display steps\n",
    "    if((epoch%display_step)==0):\n",
    "        pred = model(data_x)\n",
    "        loss = mse(pred, data_y)\n",
    "        history.append(np.array(a_*data_x + b_))\n",
    "        print(f\"Epoch {epoch} | Loss {loss.numpy()}, a: {a_.numpy()} b:{b_.numpy()}\")\n",
    "        \n",
    "    #begin GradientTape and optimize\n",
    "    with tf.GradientTape() as g:\n",
    "        pred = model(data_x)\n",
    "        loss = mse(data_y,pred)\n",
    "        \n",
    "    #compute dw, db\n",
    "    gradients = g.gradient(loss, [a_,b_])\n",
    "    \n",
    "    #update a_ and b_\n",
    "    optimizer.apply_gradients(zip(gradients,[a_,b_]))\n",
    "    \n",
    "\n",
    "#        print(f\"Epoch {epoch:%d} | Loss {loss.numpy():%.2f}, a: {a_.numpy():%.2f} b:{b_.numpy():%.2f}\")\n"
   ]
  },
  {
   "cell_type": "code",
   "execution_count": null,
   "id": "2a37d9ff",
   "metadata": {},
   "outputs": [],
   "source": [
    "plt.plot(data_x,data_y,'.')\n",
    "plt.plot(data_x,model(data_x))"
   ]
  },
  {
   "cell_type": "code",
   "execution_count": null,
   "id": "d0371373",
   "metadata": {},
   "outputs": [],
   "source": []
  }
 ],
 "metadata": {
  "kernelspec": {
   "display_name": "Python 3 (ipykernel)",
   "language": "python",
   "name": "python3"
  },
  "language_info": {
   "codemirror_mode": {
    "name": "ipython",
    "version": 3
   },
   "file_extension": ".py",
   "mimetype": "text/x-python",
   "name": "python",
   "nbconvert_exporter": "python",
   "pygments_lexer": "ipython3",
   "version": "3.10.4"
  }
 },
 "nbformat": 4,
 "nbformat_minor": 5
}
